{
 "cells": [
  {
   "cell_type": "code",
   "execution_count": null,
   "metadata": {},
   "outputs": [],
   "source": [
    "\n",
    "\n",
    "import pandas as pd  \n",
    "\n",
    "efficiency = pd.read_txt(r'D:\\17A1KHDL\\LAB2\\Data\\efficiency.txt') \n",
    "shifts=pd.read_txt(r'D:\\17A1KHDL\\LAB2\\Data\\shifts.txt')\n",
    "\n",
    "# Đọc dữ liệu từ file efficiency.txt  \n",
    "with open('efficiency.txt', 'r') as f:  \n",
    "    efficiency = [int(line.strip()) for line in f]  \n",
    "\n",
    "# Đọc dữ liệu từ file shifts.txt  \n",
    "with open('shifts.txt', 'r') as f:  \n",
    "    shifts = [line.strip() for line in f]  \n",
    "\n",
    "print(\"Dữ liệu hiệu suất:\", efficiency)  \n",
    "print(\"Dữ liệu ca làm việc:\", shifts)"
   ]
  }
 ],
 "metadata": {
  "kernelspec": {
   "display_name": "Python 3",
   "language": "python",
   "name": "python3"
  },
  "language_info": {
   "codemirror_mode": {
    "name": "ipython",
    "version": 3
   },
   "file_extension": ".py",
   "mimetype": "text/x-python",
   "name": "python",
   "nbconvert_exporter": "python",
   "pygments_lexer": "ipython3",
   "version": "3.12.5"
  }
 },
 "nbformat": 4,
 "nbformat_minor": 2
}
