{
 "cells": [
  {
   "cell_type": "code",
   "execution_count": 5,
   "metadata": {},
   "outputs": [
    {
     "name": "stdout",
     "output_type": "stream",
     "text": [
      "[[3.04 3.39 6.7 ]\n",
      " [5.8  6.41 6.62]\n",
      " [2.59 3.57 9.16]\n",
      " [3.81 8.78 9.24]\n",
      " [8.91 9.64 6.39]\n",
      " [3.23 4.72 6.17]\n",
      " [2.35 3.29 6.89]\n",
      " [2.48 3.81 4.84]\n",
      " [3.23 2.61 4.52]\n",
      " [7.02 9.01 9.15]\n",
      " [2.29 4.48 5.51]\n",
      " [3.51 7.19 5.13]\n",
      " [6.74 7.78 6.19]\n",
      " [9.86 4.64 3.33]\n",
      " [8.04 5.12 4.77]\n",
      " [2.74 8.88 5.8 ]\n",
      " [3.04 6.88 3.91]\n",
      " [5.87 4.41 8.84]\n",
      " [8.46 2.63 4.91]\n",
      " [3.74 6.71 3.44]\n",
      " [5.67 8.05 6.03]\n",
      " [8.12 2.46 3.87]\n",
      " [9.4  5.31 5.13]\n",
      " [3.91 5.09 8.82]\n",
      " [4.26 5.78 8.14]\n",
      " [4.41 2.66 5.4 ]\n",
      " [3.23 8.3  8.64]\n",
      " [9.25 8.29 9.1 ]\n",
      " [6.08 2.67 6.39]\n",
      " [3.85 7.71 5.75]]\n"
     ]
    }
   ],
   "source": [
    "import csv\n",
    "\n",
    "import pandas as pd  \n",
    "import numpy as np  \n",
    "\n",
    "# Đọc dữ liệu từ file CSV  \n",
    "df = pd.read_csv(r'D:\\17A1KHDL\\LAB2\\Data\\diem_hoc_phan.csv')  \n",
    "\n",
    "# Chuyển đổi dữ liệu thành một list  \n",
    "data_list = df[['HP 1', 'HP 2', 'HP 3']].values.tolist()  \n",
    "\n",
    "# Chuyển đổi list thành mảng NumPy  \n",
    "data_array = np.array(data_list)  \n",
    "\n",
    "print(data_array)\n",
    "\n"
   ]
  },
  {
   "cell_type": "code",
   "execution_count": 6,
   "metadata": {},
   "outputs": [
    {
     "name": "stdout",
     "output_type": "stream",
     "text": [
      "[['F' 'F' 'C+']\n",
      " ['C' 'C' 'C+']\n",
      " ['F' 'F' 'A']\n",
      " ['F' 'A' 'A']\n",
      " ['A' 'A' 'C']\n",
      " ['F' 'D' 'C']\n",
      " ['F' 'F' 'C+']\n",
      " ['F' 'F' 'D']\n",
      " ['F' 'F' 'D']\n",
      " ['B' 'A' 'A']\n",
      " ['F' 'D' 'C']\n",
      " ['F' 'B' 'D+']\n",
      " ['C+' 'B' 'C']\n",
      " ['A' 'D' 'F']\n",
      " ['B+' 'D+' 'D']\n",
      " ['F' 'A' 'C']\n",
      " ['F' 'C+' 'F']\n",
      " ['C' 'D' 'A']\n",
      " ['B+' 'F' 'D']\n",
      " ['F' 'C+' 'F']\n",
      " ['C' 'B+' 'C']\n",
      " ['B+' 'F' 'F']\n",
      " ['A' 'D+' 'D+']\n",
      " ['F' 'D+' 'A']\n",
      " ['D' 'C' 'B+']\n",
      " ['D' 'F' 'D+']\n",
      " ['F' 'B+' 'A']\n",
      " ['A' 'B+' 'A']\n",
      " ['C' 'F' 'C']\n",
      " ['F' 'B' 'C']]\n"
     ]
    }
   ],
   "source": [
    "def convert_grade(point):  \n",
    "    if point >= 8.5:  \n",
    "        return 'A'  \n",
    "    elif point >= 8.0:  \n",
    "        return 'B+'  \n",
    "    elif point >= 7.0:  \n",
    "        return 'B'  \n",
    "    elif point >= 6.5:  \n",
    "        return 'C+'  \n",
    "    elif point >= 5.5:  \n",
    "        return 'C'  \n",
    "    elif point >= 5.0:  \n",
    "        return 'D+'  \n",
    "    elif point >= 4.0:  \n",
    "        return 'D'  \n",
    "    else:  \n",
    "        return 'F'  \n",
    "\n",
    "# Áp dụng hàm qui đổi cho từng điểm số trong mảng  \n",
    "grades_array = np.vectorize(convert_grade)(data_array)  \n",
    "\n",
    "print(grades_array)"
   ]
  },
  {
   "cell_type": "code",
   "execution_count": 7,
   "metadata": {},
   "outputs": [],
   "source": [
    "# Tạo DataFrame riêng cho từng học phần  \n",
    "hp1_scores = df['HP 1']  \n",
    "hp2_scores = df['HP 2']  \n",
    "hp3_scores = df['HP 3']"
   ]
  },
  {
   "cell_type": "code",
   "execution_count": 8,
   "metadata": {},
   "outputs": [
    {
     "name": "stdout",
     "output_type": "stream",
     "text": [
      "HP 1 - Tổng: 154.92999999999998 Trung bình: 5.1643333333333326 Độ lệch chuẩn: 2.4078519934211533\n",
      "HP 2 - Tổng: 170.27 Trung bình: 5.675666666666667 Độ lệch chuẩn: 2.2494765070023637\n",
      "HP 3 - Tổng: 188.78 Trung bình: 6.292666666666666 Độ lệch chuẩn: 1.8082292135923723\n"
     ]
    }
   ],
   "source": [
    "# Phân tích cho từng học phần  \n",
    "def analyze_scores(scores):  \n",
    "    total = np.sum(scores)  \n",
    "    mean = np.mean(scores)  \n",
    "    std_dev = np.std(scores)  \n",
    "    \n",
    "    return total, mean, std_dev  \n",
    "\n",
    "hp1_analysis = analyze_scores(hp1_scores)  \n",
    "hp2_analysis = analyze_scores(hp2_scores)  \n",
    "hp3_analysis = analyze_scores(hp3_scores)  \n",
    "\n",
    "print(\"HP 1 - Tổng:\", hp1_analysis[0], \"Trung bình:\", hp1_analysis[1], \"Độ lệch chuẩn:\", hp1_analysis[2])  \n",
    "print(\"HP 2 - Tổng:\", hp2_analysis[0], \"Trung bình:\", hp2_analysis[1], \"Độ lệch chuẩn:\", hp2_analysis[2])  \n",
    "print(\"HP 3 - Tổng:\", hp3_analysis[0], \"Trung bình:\", hp3_analysis[1], \"Độ lệch chuẩn:\", hp3_analysis[2])"
   ]
  },
  {
   "cell_type": "code",
   "execution_count": 9,
   "metadata": {},
   "outputs": [
    {
     "name": "stdout",
     "output_type": "stream",
     "text": [
      "Số lượng sinh viên theo từng loại điểm:\n",
      "{'A': 15, 'B+': 7, 'B': 4, 'C+': 6, 'C': 14, 'D+': 6, 'D': 10, 'F': 28}\n"
     ]
    }
   ],
   "source": [
    "# Đếm số lượng sinh viên đạt từng loại điểm chữ  \n",
    "def count_grades(grades):  \n",
    "    counts = {grade: 0 for grade in ['A', 'B+', 'B', 'C+', 'C', 'D+', 'D', 'F']}  \n",
    "    \n",
    "    for grade in grades.flatten():  \n",
    "        if grade in counts:  \n",
    "            counts[grade] += 1  \n",
    "    \n",
    "    return counts  \n",
    "\n",
    "grade_counts = count_grades(grades_array)  \n",
    "print(\"Số lượng sinh viên theo từng loại điểm:\")  \n",
    "print(grade_counts)"
   ]
  }
 ],
 "metadata": {
  "kernelspec": {
   "display_name": "Python 3",
   "language": "python",
   "name": "python3"
  },
  "language_info": {
   "codemirror_mode": {
    "name": "ipython",
    "version": 3
   },
   "file_extension": ".py",
   "mimetype": "text/x-python",
   "name": "python",
   "nbconvert_exporter": "python",
   "pygments_lexer": "ipython3",
   "version": "3.12.5"
  }
 },
 "nbformat": 4,
 "nbformat_minor": 2
}
