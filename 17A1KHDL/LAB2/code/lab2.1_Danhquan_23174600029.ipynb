{
 "cells": [
  {
   "cell_type": "code",
   "execution_count": 1,
   "metadata": {},
   "outputs": [
    {
     "name": "stdout",
     "output_type": "stream",
     "text": [
      "Dữ liệu nhiệt độ trong tháng:\n",
      "[25.98 29.3  27.06 25.9  23.47 27.92 23.75 32.84 34.27 22.67 30.83 25.58\n",
      " 26.36 33.51 16.42 16.74 15.4  31.65 30.56 32.4  34.57 30.98 24.23 30.61\n",
      " 17.37 27.8  17.87 33.89 25.44 23.29]\n"
     ]
    }
   ],
   "source": [
    "import numpy as np    \n",
    "np.random.seed(0)   \n",
    "temperature_data = np.round(np.random.uniform(15, 35, 30), 2)    \n",
    "print(\"Dữ liệu nhiệt độ trong tháng:\")  \n",
    "print(temperature_data) "
   ]
  },
  {
   "cell_type": "code",
   "execution_count": 2,
   "metadata": {},
   "outputs": [
    {
     "name": "stdout",
     "output_type": "stream",
     "text": [
      "\n",
      "Nhiệt độ trung bình trong tháng: 26.62 độ C\n"
     ]
    }
   ],
   "source": [
    "# Tính nhiệt độ trung bình  \n",
    "average_temperature = np.mean(temperature_data)  \n",
    "print(\"\\nNhiệt độ trung bình trong tháng: {:.2f} độ C\".format(average_temperature))\n",
    "# Tìm nhiệt độ cao nhất và ngày tương ứng  \n",
    "max_temperature = np.max(temperature_data)  \n",
    "max_day = np.argmax(temperature_data) + 1"
   ]
  },
  {
   "cell_type": "code",
   "execution_count": null,
   "metadata": {},
   "outputs": [
    {
     "name": "stdout",
     "output_type": "stream",
     "text": [
      "\n",
      "Nhiệt độ cao nhất là 34.57 độ C vào ngày thứ 21.\n",
      "Nhiệt độ thấp nhất là 15.40 độ C vào ngày thứ 17.\n"
     ]
    }
   ],
   "source": [
    "# Tìm nhiệt độ thấp nhất và ngày tương ứng  \n",
    "min_temperature = np.min(temperature_data)  \n",
    "min_day = np.argmin(temperature_data) + 1\n",
    "print(\"\\nNhiệt độ cao nhất là {:.2f} độ C vào ngày  {}.\".format(max_temperature, max_day))  \n",
    "print(\"Nhiệt độ thấp nhất là {:.2f} độ C vào ngày  {}.\".format(min_temperature, min_day))\n",
    "# Tính độ chênh lệch nhiệt độ giữa các ngày liên tiếp  \n",
    "temperature_diff = np.abs(np.diff(temperature_data))  \n"
   ]
  },
  {
   "cell_type": "code",
   "execution_count": 5,
   "metadata": {},
   "outputs": [
    {
     "name": "stdout",
     "output_type": "stream",
     "text": [
      "\n",
      "Sự biến đổi nhiệt độ cao nhất là 17.09 độ C giữa các ngày 14 và 15.\n"
     ]
    }
   ],
   "source": [
    "# Ngày có sự biến đổi nhiệt độ cao nhất  \n",
    "max_diff = np.max(temperature_diff)  \n",
    "max_diff_day = np.argmax(temperature_diff) + 1   \n",
    "\n",
    "print(\"\\nSự biến đổi nhiệt độ cao nhất là {:.2f} độ C giữa các ngày {} và {}.\".format(max_diff, max_diff_day, max_diff_day + 1))"
   ]
  },
  {
   "cell_type": "code",
   "execution_count": 6,
   "metadata": {},
   "outputs": [
    {
     "name": "stdout",
     "output_type": "stream",
     "text": [
      "\n",
      "Các ngày có nhiệt độ cao hơn 20 độ C: Ngày [ 1  2  3  4  5  6  7  8  9 10 11 12 13 14 18 19 20 21 22 23 24 26 28 29\n",
      " 30]\n",
      "\n",
      "Nhiệt độ của các ngày 5, 10, 15, 20, và 25: [23.47 22.67 16.42 32.4  17.37]\n",
      "\n",
      "Nhiệt độ của các ngày có nhiệt độ trên trung bình: [29.3  27.06 27.92 32.84 34.27 30.83 33.51 31.65 30.56 32.4  34.57 30.98\n",
      " 30.61 27.8  33.89]\n",
      "\n",
      "Nhiệt độ của các ngày chẵn trong tháng: [29.3  25.9  27.92 32.84 22.67 25.58 33.51 16.74 31.65 32.4  30.98 30.61\n",
      " 27.8  33.89 23.29]\n",
      "Nhiệt độ của các ngày lẻ trong tháng: [25.98 27.06 23.47 23.75 34.27 30.83 26.36 16.42 15.4  30.56 34.57 24.23\n",
      " 17.37 17.87 25.44]\n"
     ]
    }
   ],
   "source": [
    "hot_days = np.where(temperature_data > 20)[0] + 1  \n",
    "print(\"\\nCác ngày có nhiệt độ cao hơn 20 độ C: Ngày\", hot_days)\n",
    "\n",
    "specific_days = temperature_data[[4, 9, 14, 19, 24]]  \n",
    "print(\"\\nNhiệt độ của các ngày 5, 10, 15, 20, và 25:\", specific_days)\n",
    "\n",
    "above_average_days = temperature_data[temperature_data > average_temperature]  \n",
    "print(\"\\nNhiệt độ của các ngày có nhiệt độ trên trung bình:\", above_average_days)\n",
    "\n",
    "even_days_temperature = temperature_data[1::2]    \n",
    "odd_days_temperature = temperature_data[::2]  \n",
    "\n",
    "print(\"\\nNhiệt độ của các ngày chẵn trong tháng:\", even_days_temperature)  \n",
    "print(\"Nhiệt độ của các ngày lẻ trong tháng:\", odd_days_temperature)"
   ]
  }
 ],
 "metadata": {
  "kernelspec": {
   "display_name": "Python 3",
   "language": "python",
   "name": "python3"
  },
  "language_info": {
   "codemirror_mode": {
    "name": "ipython",
    "version": 3
   },
   "file_extension": ".py",
   "mimetype": "text/x-python",
   "name": "python",
   "nbconvert_exporter": "python",
   "pygments_lexer": "ipython3",
   "version": "3.12.5"
  }
 },
 "nbformat": 4,
 "nbformat_minor": 2
}
