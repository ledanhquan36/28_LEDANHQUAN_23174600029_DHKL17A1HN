{
 "cells": [
  {
   "cell_type": "code",
   "execution_count": 2,
   "metadata": {},
   "outputs": [
    {
     "name": "stdout",
     "output_type": "stream",
     "text": [
      "                      open     high      low    close   volume\n",
      "date       symbol                                             \n",
      "2019-01-03 AMZN    1655.13  1674.26  1651.00  1671.73  4974877\n",
      "2019-04-03 AMZN    1685.00  1709.43  1674.36  1696.17  6167358\n",
      "2019-05-03 AMZN    1702.95  1707.80  1689.01  1692.43  3681522\n",
      "2019-06-03 AMZN    1695.97      NaN      NaN  1668.95  3996001\n",
      "2019-07-03 AMZN    1667.37  1669.75  1620.51  1625.95  4957017\n"
     ]
    },
    {
     "name": "stderr",
     "output_type": "stream",
     "text": [
      "C:\\Users\\danh quan\\AppData\\Local\\Temp\\ipykernel_25160\\79282888.py:10: UserWarning: Could not infer format, so each element will be parsed individually, falling back to `dateutil`. To ensure parsing is consistent and as-expected, please specify a format.\n",
      "  stocks['date'] = pd.to_datetime(stocks['date'])\n"
     ]
    }
   ],
   "source": [
    "import pandas as pd\n",
    "\n",
    "#  1: Đọc file CSV vào DataFrame stocks2\n",
    "stocks2 = pd.read_csv(r'D:\\17A1KHDL\\Lab3\\DATA\\stocks2.csv')\n",
    "\n",
    "# Giả sử đã đọc dữ liệu từ file 'stocks1.csv' vào DataFrame stocks1\n",
    "stocks1 = pd.read_csv(r'D:\\17A1KHDL\\Lab3\\DATA\\stocks1.csv')\n",
    "stocks = pd.concat([stocks1, stocks2], ignore_index=True)\n",
    "# Đảm bảo rằng cột 'date' có kiểu dữ liệu datetime\n",
    "stocks['date'] = pd.to_datetime(stocks['date'])\n",
    "\n",
    "# Tạo MultiIndex với 'date' và 'symbol' làm chỉ mục\n",
    "stocks.set_index(['date', 'symbol'], inplace=True)\n",
    "\n",
    "# Hiển thị DataFrame sau khi tạo MultiIndex\n",
    "print(stocks.head())"
   ]
  },
  {
   "cell_type": "code",
   "execution_count": 3,
   "metadata": {},
   "outputs": [
    {
     "name": "stdout",
     "output_type": "stream",
     "text": [
      "                      open      high      low    close      volume\n",
      "date       symbol                                                 \n",
      "2019-01-03 AAPL     174.28   175.150   172.89   174.97  25886167.0\n",
      "           AMZN    1655.13  1674.260  1651.00  1671.73   4974877.0\n",
      "           FB       162.60   163.132   161.69   162.28  11097770.0\n",
      "           GOOG    1124.90  1142.970  1124.75  1140.99   1450316.0\n",
      "           TSLA     306.94   307.130   291.90   294.79  22911375.0\n"
     ]
    }
   ],
   "source": [
    "# Sử dụng GroupBy để tính giá trị trung bình cho mỗi ngày và mã chứng khoán\n",
    "grouped = stocks.groupby(['date', 'symbol'])[['open', 'high', 'low', 'close', 'volume']].mean()\n",
    "\n",
    "# Hiển thị kết quả\n",
    "print(grouped.head())\n"
   ]
  },
  {
   "cell_type": "code",
   "execution_count": 4,
   "metadata": {},
   "outputs": [
    {
     "name": "stdout",
     "output_type": "stream",
     "text": [
      "                      open      high      low    close      volume\n",
      "date       symbol                                                 \n",
      "2019-01-03 AAPL     174.28   175.150   172.89   174.97  25886167.0\n",
      "           AMZN    1655.13  1674.260  1651.00  1671.73   4974877.0\n",
      "           FB       162.60   163.132   161.69   162.28  11097770.0\n",
      "           GOOG    1124.90  1142.970  1124.75  1140.99   1450316.0\n",
      "           TSLA     306.94   307.130   291.90   294.79  22911375.0\n"
     ]
    }
   ],
   "source": [
    "# Sắp xếp dữ liệu theo ngày và mã chứng khoán\n",
    "sorted_data = grouped.sort_index()\n",
    "\n",
    "# Hiển thị kết quả\n",
    "print(sorted_data.head())\n"
   ]
  }
 ],
 "metadata": {
  "kernelspec": {
   "display_name": "Python 3",
   "language": "python",
   "name": "python3"
  },
  "language_info": {
   "codemirror_mode": {
    "name": "ipython",
    "version": 3
   },
   "file_extension": ".py",
   "mimetype": "text/x-python",
   "name": "python",
   "nbconvert_exporter": "python",
   "pygments_lexer": "ipython3",
   "version": "3.12.5"
  }
 },
 "nbformat": 4,
 "nbformat_minor": 2
}
