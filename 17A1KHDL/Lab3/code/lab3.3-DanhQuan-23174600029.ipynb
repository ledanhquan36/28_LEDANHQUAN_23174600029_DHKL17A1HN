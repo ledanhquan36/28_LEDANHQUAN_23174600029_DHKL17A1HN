{
 "cells": [
  {
   "cell_type": "code",
   "execution_count": 1,
   "metadata": {},
   "outputs": [],
   "source": [
    "\n",
    "import pandas as pd\n",
    "\n",
    "#  1: Đọc file CSV vào DataFrame stocks2\n",
    "stocks2 = pd.read_csv(r'D:\\17A1KHDL\\Lab3\\DATA\\stocks2.csv')\n",
    "\n",
    "# Giả sử đã đọc dữ liệu từ file 'stocks1.csv' vào DataFrame stocks1\n",
    "stocks1 = pd.read_csv(r'D:\\17A1KHDL\\Lab3\\DATA\\stocks1.csv')"
   ]
  },
  {
   "cell_type": "code",
   "execution_count": 8,
   "metadata": {},
   "outputs": [],
   "source": [
    "#  2: Gộp stocks1 và stocks2 thành DataFrame mới stocks\n",
    "stocks = pd.concat([stocks1, stocks2], ignore_index=True)"
   ]
  },
  {
   "cell_type": "code",
   "execution_count": 11,
   "metadata": {},
   "outputs": [
    {
     "name": "stdout",
     "output_type": "stream",
     "text": [
      "               open       high       low    close\n",
      "date                                             \n",
      "2019-01-03  684.770  692.52840  680.4460  688.952\n",
      "2019-04-03  693.940  702.39200  685.1260  694.510\n",
      "2019-05-03  695.664  584.92000  575.0500  695.558\n",
      "2019-06-03  696.502  449.53395  443.7725  690.016\n",
      "2019-07-03  689.460  691.47800  673.8600  677.494\n"
     ]
    }
   ],
   "source": [
    "# Tính giá trung bình cho các cột (open, high, low, close) cho mỗi ngày\n",
    "average_prices = stocks.groupby('date')[['open', 'high', 'low', 'close']].mean()\n",
    "\n",
    "# Hiển thị 5 dòng đầu tiên của kết quả\n",
    "print(average_prices.head())\n"
   ]
  },
  {
   "cell_type": "code",
   "execution_count": 2,
   "metadata": {},
   "outputs": [
    {
     "name": "stdout",
     "output_type": "stream",
     "text": [
      "   name  employees headquarters_city headquarters_state\n",
      "0  AMZN     613300           Seattle                 WA\n",
      "1  GOOG      98771     Mountain View                 CA\n",
      "2  AAPL     132000         Cupertino                 CA\n",
      "3    FB      48268        Menlo Park                 CA\n",
      "4  TSLA      48016         Palo Alto                 CA\n"
     ]
    }
   ],
   "source": [
    "# Đọc file companies.csv vào DataFrame companies\n",
    "companies = pd.read_csv(r'D:\\17A1KHDL\\Lab3\\DATA\\companies.csv')\n",
    "\n",
    "# Hiển thị 5 dòng đầu tiên của DataFrame companies\n",
    "print(companies.head())"
   ]
  },
  {
   "cell_type": "code",
   "execution_count": 4,
   "metadata": {},
   "outputs": [
    {
     "ename": "NameError",
     "evalue": "name 'stocks' is not defined",
     "output_type": "error",
     "traceback": [
      "\u001b[1;31m---------------------------------------------------------------------------\u001b[0m",
      "\u001b[1;31mNameError\u001b[0m                                 Traceback (most recent call last)",
      "Cell \u001b[1;32mIn[4], line 2\u001b[0m\n\u001b[0;32m      1\u001b[0m \u001b[38;5;66;03m# Kết hợp DataFrame stocks và companies dựa trên cột 'symbol'\u001b[39;00m\n\u001b[1;32m----> 2\u001b[0m merged_data \u001b[38;5;241m=\u001b[39m pd\u001b[38;5;241m.\u001b[39mmerge(\u001b[43mstocks\u001b[49m, companies, on\u001b[38;5;241m=\u001b[39m\u001b[38;5;124m'\u001b[39m\u001b[38;5;124msymbol\u001b[39m\u001b[38;5;124m'\u001b[39m, how\u001b[38;5;241m=\u001b[39m\u001b[38;5;124m'\u001b[39m\u001b[38;5;124minner\u001b[39m\u001b[38;5;124m'\u001b[39m)\n\u001b[0;32m      4\u001b[0m \u001b[38;5;66;03m# Hiển thị 5 dòng đầu tiên của DataFrame đã kết hợp\u001b[39;00m\n\u001b[0;32m      5\u001b[0m \u001b[38;5;28mprint\u001b[39m(merged_data\u001b[38;5;241m.\u001b[39mhead())\n",
      "\u001b[1;31mNameError\u001b[0m: name 'stocks' is not defined"
     ]
    }
   ],
   "source": [
    "# Kết hợp DataFrame stocks và companies dựa trên cột 'symbol'\n",
    "merged_data = pd.merge(stocks, companies, on='symbol', how='inner')\n",
    "\n",
    "# Hiển thị 5 dòng đầu tiên của DataFrame đã kết hợp\n",
    "print(merged_data.head())\n"
   ]
  }
 ],
 "metadata": {
  "kernelspec": {
   "display_name": "Python 3",
   "language": "python",
   "name": "python3"
  },
  "language_info": {
   "codemirror_mode": {
    "name": "ipython",
    "version": 3
   },
   "file_extension": ".py",
   "mimetype": "text/x-python",
   "name": "python",
   "nbconvert_exporter": "python",
   "pygments_lexer": "ipython3",
   "version": "3.12.5"
  }
 },
 "nbformat": 4,
 "nbformat_minor": 2
}
