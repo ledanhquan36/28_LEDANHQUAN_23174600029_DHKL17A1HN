{
 "cells": [
  {
   "cell_type": "code",
   "execution_count": 1,
   "metadata": {},
   "outputs": [],
   "source": [
    "\n",
    "import pandas as pd\n",
    "\n",
    "#  1: Đọc file CSV vào DataFrame stocks2\n",
    "stocks2 = pd.read_csv(r'D:\\17A1KHDL\\Lab3\\DATA\\stocks2.csv')\n",
    "\n",
    "# Giả sử đã đọc dữ liệu từ file 'stocks1.csv' vào DataFrame stocks1\n",
    "stocks1 = pd.read_csv(r'D:\\17A1KHDL\\Lab3\\DATA\\stocks1.csv')"
   ]
  },
  {
   "cell_type": "code",
   "execution_count": 8,
   "metadata": {},
   "outputs": [],
   "source": [
    "#  2: Gộp stocks1 và stocks2 thành DataFrame mới stocks\n",
    "stocks = pd.concat([stocks1, stocks2], ignore_index=True)"
   ]
  },
  {
   "cell_type": "code",
   "execution_count": 11,
   "metadata": {},
   "outputs": [
    {
     "name": "stdout",
     "output_type": "stream",
     "text": [
      "               open       high       low    close\n",
      "date                                             \n",
      "2019-01-03  684.770  692.52840  680.4460  688.952\n",
      "2019-04-03  693.940  702.39200  685.1260  694.510\n",
      "2019-05-03  695.664  584.92000  575.0500  695.558\n",
      "2019-06-03  696.502  449.53395  443.7725  690.016\n",
      "2019-07-03  689.460  691.47800  673.8600  677.494\n"
     ]
    }
   ],
   "source": [
    "# Tính giá trung bình cho các cột (open, high, low, close) cho mỗi ngày\n",
    "average_prices = stocks.groupby('date')[['open', 'high', 'low', 'close']].mean()\n",
    "\n",
    "# Hiển thị 5 dòng đầu tiên của kết quả\n",
    "print(average_prices.head())\n"
   ]
  }
 ],
 "metadata": {
  "kernelspec": {
   "display_name": "Python 3",
   "language": "python",
   "name": "python3"
  },
  "language_info": {
   "codemirror_mode": {
    "name": "ipython",
    "version": 3
   },
   "file_extension": ".py",
   "mimetype": "text/x-python",
   "name": "python",
   "nbconvert_exporter": "python",
   "pygments_lexer": "ipython3",
   "version": "3.12.5"
  }
 },
 "nbformat": 4,
 "nbformat_minor": 2
}
