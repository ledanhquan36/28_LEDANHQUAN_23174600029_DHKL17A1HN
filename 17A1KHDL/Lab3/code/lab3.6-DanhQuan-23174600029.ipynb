{
 "cells": [
  {
   "cell_type": "code",
   "execution_count": 2,
   "metadata": {},
   "outputs": [
    {
     "name": "stdout",
     "output_type": "stream",
     "text": [
      "symbol        AAPL     AMZN      FB     GOOG    TSLA\n",
      "date                                                \n",
      "2019-01-03  174.97  1671.73  162.28  1140.99  294.79\n",
      "2019-04-03  175.85  1696.17  167.37  1147.80  285.36\n",
      "2019-05-03  175.53  1692.43  171.26  1162.03  276.54\n",
      "2019-06-03  174.52  1668.95  172.51  1157.86  276.24\n",
      "2019-07-03  172.50  1625.95  169.13  1143.30  276.59\n"
     ]
    },
    {
     "name": "stderr",
     "output_type": "stream",
     "text": [
      "C:\\Users\\danh quan\\AppData\\Local\\Temp\\ipykernel_24260\\1089043199.py:10: UserWarning: Could not infer format, so each element will be parsed individually, falling back to `dateutil`. To ensure parsing is consistent and as-expected, please specify a format.\n",
      "  stocks['date'] = pd.to_datetime(stocks['date'])\n"
     ]
    }
   ],
   "source": [
    "import pandas as pd\n",
    "\n",
    "#  1: Đọc file CSV vào DataFrame stocks2\n",
    "stocks2 = pd.read_csv(r'D:\\17A1KHDL\\Lab3\\DATA\\stocks2.csv')\n",
    "\n",
    "# Giả sử đã đọc dữ liệu từ file 'stocks1.csv' vào DataFrame stocks1\n",
    "stocks1 = pd.read_csv(r'D:\\17A1KHDL\\Lab3\\DATA\\stocks1.csv')\n",
    "stocks = pd.concat([stocks1, stocks2], ignore_index=True)\n",
    "# Đảm bảo rằng cột 'date' có kiểu dữ liệu datetime\n",
    "stocks['date'] = pd.to_datetime(stocks['date'])\n",
    "# Tạo Pivot Table từ DataFrame stocks\n",
    "pivot_table = pd.pivot_table(stocks, values='close', index='date', columns='symbol', aggfunc='mean')\n",
    "\n",
    "# Hiển thị Pivot Table\n",
    "print(pivot_table.head())"
   ]
  },
  {
   "cell_type": "code",
   "execution_count": 7,
   "metadata": {},
   "outputs": [
    {
     "name": "stdout",
     "output_type": "stream",
     "text": [
      "symbol        AAPL      FB    TSLA     AMZN     GOOG\n",
      "date                                                \n",
      "2019-01-03  174.97  162.28  294.79  1671.73  1140.99\n",
      "2019-04-03  175.85  167.37  285.36  1696.17  1147.80\n",
      "2019-05-03  175.53  171.26  276.54  1692.43  1162.03\n",
      "2019-06-03  174.52  172.51  276.24  1668.95  1157.86\n",
      "2019-07-03  172.50  169.13  276.59  1625.95  1143.30\n"
     ]
    }
   ],
   "source": [
    "# Tạo Pivot Table từ DataFrame stocks cho giá trị 'close'\n",
    "pivot_table = pd.pivot_table(stocks, values='close', index='date', columns='symbol', aggfunc='mean')\n",
    "\n",
    "# Tính tổng volume giao dịch cho mỗi mã chứng khoán\n",
    "pivot_volume = pd.pivot_table(stocks, values='volume', index='date', columns='symbol', aggfunc='sum')\n",
    "\n",
    "# Tính tổng volume giao dịch cho mỗi mã chứng khoán trong toàn bộ thời gian\n",
    "total_volume = pivot_volume.sum(axis=0)\n",
    "\n",
    "# Sắp xếp các mã chứng khoán theo tổng volume giao dịch từ cao xuống thấp\n",
    "sorted_symbols = total_volume.sort_values(ascending=False)\n",
    "\n",
    "# Lọc và sắp xếp Pivot Table 'pivot_table' theo thứ tự các mã chứng khoán đã được sắp xếp theo 'total_volume'\n",
    "pivot_table_sorted = pivot_table[sorted_symbols.index]\n",
    "\n",
    "# Hiển thị kết quả cho 5 mã chứng khoán có tổng volume giao dịch cao nhất\n",
    "top_5_symbols = pivot_table_sorted.iloc[:, :5]\n",
    "\n",
    "# Hiển thị kết quả\n",
    "print(top_5_symbols.head())"
   ]
  }
 ],
 "metadata": {
  "kernelspec": {
   "display_name": "Python 3",
   "language": "python",
   "name": "python3"
  },
  "language_info": {
   "codemirror_mode": {
    "name": "ipython",
    "version": 3
   },
   "file_extension": ".py",
   "mimetype": "text/x-python",
   "name": "python",
   "nbconvert_exporter": "python",
   "pygments_lexer": "ipython3",
   "version": "3.12.5"
  }
 },
 "nbformat": 4,
 "nbformat_minor": 2
}
