{
 "cells": [
  {
   "cell_type": "code",
   "execution_count": 1,
   "metadata": {},
   "outputs": [
    {
     "name": "stdout",
     "output_type": "stream",
     "text": [
      "   name  employees headquarters_city headquarters_state\n",
      "0  AMZN     613300           Seattle                 WA\n",
      "1  GOOG      98771     Mountain View                 CA\n",
      "2  AAPL     132000         Cupertino                 CA\n",
      "3    FB      48268        Menlo Park                 CA\n",
      "4  TSLA      48016         Palo Alto                 CA\n"
     ]
    }
   ],
   "source": [
    "\n",
    "import pandas as pd\n",
    "\n",
    "#  1: Đọc file CSV vào DataFrame stocks2\n",
    "stocks2 = pd.read_csv(r'D:\\17A1KHDL\\Lab3\\DATA\\stocks2.csv')\n",
    "\n",
    "# Giả sử đã đọc dữ liệu từ file 'stocks1.csv' vào DataFrame stocks1\n",
    "stocks1 = pd.read_csv(r'D:\\17A1KHDL\\Lab3\\DATA\\stocks1.csv')\n",
    "# Đọc file companies.csv vào DataFrame companies\n",
    "companies = pd.read_csv(r'D:\\17A1KHDL\\Lab3\\DATA\\companies.csv')\n",
    "\n",
    "# Hiển thị 5 dòng đầu tiên của DataFrame companies\n",
    "print(companies.head())\n"
   ]
  },
  {
   "cell_type": "code",
   "execution_count": 2,
   "metadata": {},
   "outputs": [],
   "source": [
    "stocks = pd.concat([stocks1, stocks2], ignore_index=True)"
   ]
  },
  {
   "cell_type": "code",
   "execution_count": null,
   "metadata": {},
   "outputs": [],
   "source": [
    "merged_data = pd.merge(stocks, companies, on='symbol', how='inner')"
   ]
  }
 ],
 "metadata": {
  "kernelspec": {
   "display_name": "Python 3",
   "language": "python",
   "name": "python3"
  },
  "language_info": {
   "codemirror_mode": {
    "name": "ipython",
    "version": 3
   },
   "file_extension": ".py",
   "mimetype": "text/x-python",
   "name": "python",
   "nbconvert_exporter": "python",
   "pygments_lexer": "ipython3",
   "version": "3.12.5"
  }
 },
 "nbformat": 4,
 "nbformat_minor": 2
}
