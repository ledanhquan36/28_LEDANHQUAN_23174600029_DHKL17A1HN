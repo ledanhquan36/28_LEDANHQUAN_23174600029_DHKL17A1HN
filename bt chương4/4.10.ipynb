{
 "cells": [
  {
   "cell_type": "code",
   "execution_count": 1,
   "metadata": {},
   "outputs": [
    {
     "data": {
      "text/plain": [
       "0    1\n",
       "1    6\n",
       "2    5\n",
       "3    8\n",
       "4    3\n",
       "5    5\n",
       "6    7\n",
       "dtype: int32"
      ]
     },
     "execution_count": 1,
     "metadata": {},
     "output_type": "execute_result"
    }
   ],
   "source": [
    "import numpy as np\n",
    "import pandas as pd\n",
    "ser=pd.Series(np.random.randint(1,10,7))\n",
    "ser"
   ]
  },
  {
   "cell_type": "code",
   "execution_count": 2,
   "metadata": {},
   "outputs": [
    {
     "name": "stdout",
     "output_type": "stream",
     "text": [
      "Vị trí của các số là bội của 3: Index([1, 4], dtype='int64')\n"
     ]
    }
   ],
   "source": [
    "print(\"Vị trí của các số là bội của 3:\",ser[ser % 3 == 0].index)"
   ]
  }
 ],
 "metadata": {
  "kernelspec": {
   "display_name": "Python 3",
   "language": "python",
   "name": "python3"
  },
  "language_info": {
   "codemirror_mode": {
    "name": "ipython",
    "version": 3
   },
   "file_extension": ".py",
   "mimetype": "text/x-python",
   "name": "python",
   "nbconvert_exporter": "python",
   "pygments_lexer": "ipython3",
   "version": "3.12.5"
  }
 },
 "nbformat": 4,
 "nbformat_minor": 2
}
