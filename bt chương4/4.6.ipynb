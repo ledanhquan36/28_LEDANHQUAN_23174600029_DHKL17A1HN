{
 "cells": [
  {
   "cell_type": "code",
   "execution_count": 1,
   "metadata": {},
   "outputs": [
    {
     "data": {
      "text/plain": [
       "0     a\n",
       "1     e\n",
       "2     b\n",
       "3     e\n",
       "4     d\n",
       "5     b\n",
       "6     e\n",
       "7     a\n",
       "8     e\n",
       "9     h\n",
       "10    h\n",
       "11    h\n",
       "12    d\n",
       "13    h\n",
       "14    h\n",
       "15    e\n",
       "16    d\n",
       "17    a\n",
       "18    d\n",
       "19    h\n",
       "20    b\n",
       "21    e\n",
       "22    d\n",
       "23    c\n",
       "24    h\n",
       "25    a\n",
       "26    d\n",
       "27    c\n",
       "28    d\n",
       "29    b\n",
       "dtype: object"
      ]
     },
     "execution_count": 1,
     "metadata": {},
     "output_type": "execute_result"
    }
   ],
   "source": [
    "import pandas as pd\n",
    "import numpy as np\n",
    "ser=pd.Series(np.take(list('abcdefgh'),np.random.randint(8,size=30)))\n",
    "ser"
   ]
  }
 ],
 "metadata": {
  "kernelspec": {
   "display_name": "Python 3",
   "language": "python",
   "name": "python3"
  },
  "language_info": {
   "codemirror_mode": {
    "name": "ipython",
    "version": 3
   },
   "file_extension": ".py",
   "mimetype": "text/x-python",
   "name": "python",
   "nbconvert_exporter": "python",
   "pygments_lexer": "ipython3",
   "version": "3.12.5"
  }
 },
 "nbformat": 4,
 "nbformat_minor": 2
}
