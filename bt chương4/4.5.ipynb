{
 "cells": [
  {
   "cell_type": "code",
   "execution_count": 1,
   "metadata": {},
   "outputs": [
    {
     "name": "stdout",
     "output_type": "stream",
     "text": [
      "Ý 1: {1, 2, 3}\n",
      "Ý 2: {1, 2, 3, 6, 7, 8}\n"
     ]
    }
   ],
   "source": [
    "import pandas as pd\n",
    "\n",
    "ser1=pd.Series([1,2,3,4,5])\n",
    "ser2=pd.Series([4,5,6,7,8])\n",
    "\n",
    "ser1=set(ser1)\n",
    "ser2=set(ser2)\n",
    "\n",
    "# ý 1\n",
    "print(\"Ý 1:\",ser1.difference(ser2))\t\n",
    "# ý 2\n",
    "print(\"Ý 2:\",ser1.symmetric_difference(ser2))"
   ]
  }
 ],
 "metadata": {
  "kernelspec": {
   "display_name": "Python 3",
   "language": "python",
   "name": "python3"
  },
  "language_info": {
   "codemirror_mode": {
    "name": "ipython",
    "version": 3
   },
   "file_extension": ".py",
   "mimetype": "text/x-python",
   "name": "python",
   "nbconvert_exporter": "python",
   "pygments_lexer": "ipython3",
   "version": "3.12.5"
  }
 },
 "nbformat": 4,
 "nbformat_minor": 2
}
